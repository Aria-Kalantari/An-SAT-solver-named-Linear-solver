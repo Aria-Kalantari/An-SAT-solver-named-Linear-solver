{
  "cells": [
    {
      "cell_type": "code",
      "execution_count": null,
      "metadata": {
        "id": "_uw61IR-6AQ4"
      },
      "outputs": [],
      "source": [
        "def T(formula):\n",
        "    def negate_expression(expression):\n",
        "        return '¬' + expression\n",
        "\n",
        "    def process_binary_operation(expression, operator, operation_func):\n",
        "        parts = expression.split(operator)\n",
        "        left_expr = transform(parts[0].strip())\n",
        "        right_expr = transform(parts[1].strip())\n",
        "        return operation_func(left_expr, right_expr)\n",
        "\n",
        "    def apply_conjunction(left_expr, right_expr):\n",
        "        return left_expr + ' ∧ ' + right_expr\n",
        "\n",
        "    def apply_disjunction(left_expr, right_expr):\n",
        "        return '¬(¬' + left_expr + ' ∧ ¬' + right_expr + ')'\n",
        "\n",
        "    def apply_implication(left_expr, right_expr):\n",
        "        return '¬(' + left_expr + ' ∧ ¬' + right_expr + ')'\n",
        "\n",
        "    # Recursive transformation\n",
        "    def transform(expression):\n",
        "        # Base case: single proposition\n",
        "        if expression.isalpha():\n",
        "            return expression\n",
        "\n",
        "        # Remove outer parentheses\n",
        "        while expression.startswith('(') and expression.endswith(')'):\n",
        "            expression = expression[1:-1]\n",
        "\n",
        "        # Recursive transformation for negation\n",
        "        if expression.startswith('¬'):\n",
        "            inner_expr = transform(expression[1:])\n",
        "            return negate_expression(inner_expr)\n",
        "\n",
        "        # Recursive transformation for binary operations\n",
        "        for op, operation_func in [('∧', apply_conjunction), ('∨', apply_disjunction), ('→', apply_implication)]:\n",
        "            if op in expression:\n",
        "                return process_binary_operation(expression, op, operation_func)\n",
        "\n",
        "        return expression\n",
        "\n",
        "    # Start the transformation process\n",
        "    return transform(formula)"
      ]
    },
    {
      "cell_type": "code",
      "execution_count": null,
      "metadata": {
        "id": "jW752iCS-0lX"
      },
      "outputs": [],
      "source": [
        "class ExpressionNode:\n",
        "    def __init__(self, content, left_child=None, right_child=None):\n",
        "        self.content = content\n",
        "        self.left_child = left_child\n",
        "        self.right_child = right_child\n",
        "\n",
        "def parse_logical_expression(expression):\n",
        "    def strip_outer_parentheses(expression):\n",
        "        while expression.startswith('(') and expression.endswith(')'):\n",
        "            expression = expression[1:-1].strip()\n",
        "        return expression\n",
        "\n",
        "    def locate_main_conjunction(expression):\n",
        "        depth = 0\n",
        "        for i, char in enumerate(expression):\n",
        "            if char == '(':\n",
        "                depth += 1\n",
        "            elif char == ')':\n",
        "                depth -= 1\n",
        "            elif depth == 0 and char == '∧':\n",
        "                return i\n",
        "        return -1\n",
        "\n",
        "    expression = strip_outer_parentheses(expression)\n",
        "    conjunction_index = locate_main_conjunction(expression)\n",
        "\n",
        "    if conjunction_index != -1:\n",
        "        return ExpressionNode('∧',\n",
        "                              parse_logical_expression(expression[:conjunction_index].strip()),\n",
        "                              parse_logical_expression(expression[conjunction_index+1:].strip()))\n",
        "    elif expression.startswith('¬'):\n",
        "        return ExpressionNode('¬', right_child=parse_logical_expression(expression[1:].strip()))\n",
        "    else:\n",
        "        return ExpressionNode(expression)\n",
        "\n",
        "def transform_to_dag(expression_node, memoized_subtrees=None):\n",
        "    if expression_node is None:\n",
        "        return None\n",
        "\n",
        "    if memoized_subtrees is None:\n",
        "        memoized_subtrees = {}\n",
        "\n",
        "    left_subtree = transform_to_dag(expression_node.left_child, memoized_subtrees)\n",
        "    right_subtree = transform_to_dag(expression_node.right_child, memoized_subtrees)\n",
        "    node_signature = (expression_node.content, left_subtree, right_subtree)\n",
        "\n",
        "    if node_signature in memoized_subtrees:\n",
        "        return memoized_subtrees[node_signature]\n",
        "\n",
        "    expression_node.left_child = left_subtree\n",
        "    expression_node.right_child = right_subtree\n",
        "    memoized_subtrees[node_signature] = expression_node\n",
        "\n",
        "    return expression_node"
      ]
    },
    {
      "cell_type": "code",
      "execution_count": null,
      "metadata": {
        "id": "4I2YekjzDXNE"
      },
      "outputs": [],
      "source": [
        "def force_laws(node, truth_values, processed_nodes):\n",
        "    if node is None or node in processed_nodes:\n",
        "        return True\n",
        "\n",
        "    processed_nodes.add(node)\n",
        "\n",
        "    if node.content == '¬':\n",
        "        negated_node = node.right_child  # Assuming negation affects only the right child\n",
        "        if negated_node not in truth_values:  # If the negated node hasn't been evaluated\n",
        "            truth_values[negated_node] = not truth_values.get(node, True)  # Assign the opposite truth value\n",
        "        elif truth_values[negated_node] == truth_values.get(node, True):  # Check for logical inconsistency\n",
        "            return False  # Inconsistency found\n",
        "\n",
        "    elif node.content == '∧':\n",
        "        left_child, right_child = node.left_child, node.right_child\n",
        "        if truth_values.get(node, True):  # If conjunction node is true, both children must be true\n",
        "            truth_values[left_child] = truth_values[right_child] = True\n",
        "        else:\n",
        "            # If conjunction node is false, at least one child must be false\n",
        "            if left_child in truth_values and right_child in truth_values and truth_values[left_child] and truth_values[right_child]:\n",
        "                return False  # Inconsistency found\n",
        "\n",
        "    # Recursively apply truth values to children nodes\n",
        "    return force_laws(node.left_child, truth_values, processed_nodes) and force_laws(node.right_child, truth_values, processed_nodes)\n",
        "\n",
        "def check_satisfiability(expression_root):\n",
        "    truth_values = {expression_root: True}  # Initialize with the root node assumed to be true\n",
        "    processed_nodes = set()\n",
        "\n",
        "    # Propagate truth values through the expression tree and check for inconsistencies\n",
        "    if not force_laws(expression_root, truth_values, processed_nodes):\n",
        "        return False  # Inconsistency found, formula is not satisfiable\n",
        "\n",
        "    return True  # No inconsistencies found, formula is satisfiable"
      ]
    },
    {
      "cell_type": "code",
      "execution_count": null,
      "metadata": {
        "id": "L4wttVWZ_Sc-"
      },
      "outputs": [],
      "source": [
        "def print_tree(node, prefix=\"\", branch='root'):\n",
        "    if node is not None:\n",
        "        branch_symbols = {\"root\": \"\", \"left\": \"├── \", \"right\": \"└── \"}\n",
        "        connectors = {\"root\": \"    \", \"left\": \"│   \", \"right\": \"    \"}\n",
        "\n",
        "        print(prefix + branch_symbols[branch] + node.content)\n",
        "\n",
        "        prefix += connectors[branch]\n",
        "\n",
        "        if node.left_child and node.right_child:\n",
        "            print_tree(node.left_child, prefix, 'left')\n",
        "            print_tree(node.right_child, prefix, 'right')\n",
        "        elif node.left_child:\n",
        "            print_tree(node.left_child, prefix, 'right')\n",
        "        elif node.right_child:\n",
        "            print_tree(node.right_child, prefix, 'right')\n",
        "\n",
        "def print_dag(node, prefix=\"\", branch='root', visited_nodes=None, node_labels=None):\n",
        "    if node is None:\n",
        "        return\n",
        "\n",
        "    if visited_nodes is None:\n",
        "        visited_nodes = set()\n",
        "        node_labels = {}\n",
        "\n",
        "    if node not in node_labels:\n",
        "        node_labels[node] = len(node_labels) + 1\n",
        "\n",
        "    node_label = node_labels[node]\n",
        "\n",
        "    branch_symbols = {\"root\": \"\", \"left\": \"├── \", \"right\": \"└── \"}\n",
        "    connectors = {\"root\": \"    \", \"left\": \"│   \", \"right\": \"    \"}\n",
        "\n",
        "    is_shared = ' (shared)' if node in visited_nodes else ''\n",
        "    print(prefix + branch_symbols[branch] + f\"Node {node_label}: {node.content}{is_shared}\")\n",
        "\n",
        "    if node in visited_nodes:\n",
        "        return\n",
        "\n",
        "    visited_nodes.add(node)\n",
        "\n",
        "    prefix += connectors[branch]\n",
        "\n",
        "    if node.left_child and node.right_child:\n",
        "        print_dag(node.left_child, prefix, 'left', visited_nodes, node_labels)\n",
        "        print_dag(node.right_child, prefix, 'right', visited_nodes, node_labels)\n",
        "    elif node.left_child:\n",
        "        print_dag(node.left_child, prefix, 'right', visited_nodes, node_labels)\n",
        "    elif node.right_child:\n",
        "        print_dag(node.right_child, prefix, 'right', visited_nodes, node_labels)"
      ]
    },
    {
      "cell_type": "markdown",
      "metadata": {
        "id": "7dadLtL47dj8"
      },
      "source": [
        "# ***Example I***"
      ]
    },
    {
      "cell_type": "code",
      "execution_count": null,
      "metadata": {
        "colab": {
          "base_uri": "https://localhost:8080/"
        },
        "id": "Tdf6bwqi6ydD",
        "outputId": "91d071fe-ca46-4474-f98a-53616b4e648d"
      },
      "outputs": [
        {
          "output_type": "stream",
          "name": "stdout",
          "text": [
            "Original formula: p ∧ ¬(q → ¬p)\n",
            "Translated formula: p ∧ ¬¬(q ∧ ¬¬p)\n"
          ]
        }
      ],
      "source": [
        "input_formula = \"p ∧ ¬(q → ¬p)\"\n",
        "translated_formula = T(input_formula)\n",
        "print(\"Original formula:\", input_formula)\n",
        "print(\"Translated formula:\", translated_formula)"
      ]
    },
    {
      "cell_type": "code",
      "execution_count": null,
      "metadata": {
        "colab": {
          "base_uri": "https://localhost:8080/"
        },
        "id": "QMURunjT7M4t",
        "outputId": "69e3de26-f003-4fc2-c3b1-ff6433994559"
      },
      "outputs": [
        {
          "output_type": "stream",
          "name": "stdout",
          "text": [
            "Parse tree of the formula:\n",
            "∧\n",
            "    ├── p\n",
            "    └── ¬\n",
            "        └── ¬\n",
            "            └── ∧\n",
            "                ├── q\n",
            "                └── ¬\n",
            "                    └── ¬\n",
            "                        └── p\n"
          ]
        }
      ],
      "source": [
        "input_formula = translated_formula\n",
        "root = parse_logical_expression(input_formula)\n",
        "print(\"Parse tree of the formula:\")\n",
        "print_tree(root)"
      ]
    },
    {
      "cell_type": "code",
      "execution_count": null,
      "metadata": {
        "colab": {
          "base_uri": "https://localhost:8080/"
        },
        "id": "fAdkgq6V7O-y",
        "outputId": "16db6576-4b86-47de-a631-e43e9d7589bd"
      },
      "outputs": [
        {
          "output_type": "stream",
          "name": "stdout",
          "text": [
            "DAG of the formula:\n",
            "Node 1: ∧\n",
            "    ├── Node 2: p\n",
            "    └── Node 3: ¬\n",
            "        └── Node 4: ¬\n",
            "            └── Node 5: ∧\n",
            "                ├── Node 6: q\n",
            "                └── Node 7: ¬\n",
            "                    └── Node 8: ¬\n",
            "                        └── Node 2: p (shared)\n"
          ]
        }
      ],
      "source": [
        "seen_subtrees = {}\n",
        "root = transform_to_dag(root, seen_subtrees)\n",
        "\n",
        "print(\"DAG of the formula:\")\n",
        "print_dag(root)"
      ]
    },
    {
      "cell_type": "code",
      "execution_count": null,
      "metadata": {
        "colab": {
          "base_uri": "https://localhost:8080/"
        },
        "id": "tYzV0RWx7bmY",
        "outputId": "c4c6f49b-7306-409a-e4e7-372029ab4fa4"
      },
      "outputs": [
        {
          "output_type": "stream",
          "name": "stdout",
          "text": [
            "The formula is satisfiable.\n"
          ]
        }
      ],
      "source": [
        "satisfiable = check_satisfiability(root)\n",
        "print(\"The formula is satisfiable.\" if satisfiable else \"The formula is not satisfiable.\")"
      ]
    },
    {
      "cell_type": "markdown",
      "metadata": {
        "id": "vGUWNKdQ76y0"
      },
      "source": [
        "# ***Example 2***"
      ]
    },
    {
      "cell_type": "code",
      "execution_count": null,
      "metadata": {
        "colab": {
          "base_uri": "https://localhost:8080/"
        },
        "id": "Jx08jXzD8Cwo",
        "outputId": "1957c0aa-efc2-491d-b129-6ce6ce334898"
      },
      "outputs": [
        {
          "output_type": "stream",
          "name": "stdout",
          "text": [
            "Original formula: p ∧ ¬(q ∨ ¬p)\n",
            "Translated formula: p ∧ ¬¬(¬q ∧ ¬¬p)\n"
          ]
        }
      ],
      "source": [
        "input_formula = \"p ∧ ¬(q ∨ ¬p)\"\n",
        "translated_formula = T(input_formula)\n",
        "print(\"Original formula:\", input_formula)\n",
        "print(\"Translated formula:\", translated_formula)"
      ]
    },
    {
      "cell_type": "code",
      "execution_count": null,
      "metadata": {
        "colab": {
          "base_uri": "https://localhost:8080/"
        },
        "id": "a9l_Y--u8MUT",
        "outputId": "30f2914e-4361-4f37-aef1-64280fe8f7c6"
      },
      "outputs": [
        {
          "output_type": "stream",
          "name": "stdout",
          "text": [
            "Parse tree of the formula:\n",
            "∧\n",
            "    ├── p\n",
            "    └── ¬\n",
            "        └── ¬\n",
            "            └── ∧\n",
            "                ├── ¬\n",
            "                │   └── q\n",
            "                └── ¬\n",
            "                    └── ¬\n",
            "                        └── p\n"
          ]
        }
      ],
      "source": [
        "input_formula = translated_formula\n",
        "root = parse_logical_expression(input_formula)\n",
        "print(\"Parse tree of the formula:\")\n",
        "print_tree(root)"
      ]
    },
    {
      "cell_type": "code",
      "execution_count": null,
      "metadata": {
        "colab": {
          "base_uri": "https://localhost:8080/"
        },
        "id": "ZZ7fYlI38O6G",
        "outputId": "001a36f6-c48b-468d-ba1f-8105c426a9c3"
      },
      "outputs": [
        {
          "output_type": "stream",
          "name": "stdout",
          "text": [
            "DAG of the formula:\n",
            "Node 1: ∧\n",
            "    ├── Node 2: p\n",
            "    └── Node 3: ¬\n",
            "        └── Node 4: ¬\n",
            "            └── Node 5: ∧\n",
            "                ├── Node 6: ¬\n",
            "                │   └── Node 7: q\n",
            "                └── Node 8: ¬\n",
            "                    └── Node 9: ¬\n",
            "                        └── Node 2: p (shared)\n"
          ]
        }
      ],
      "source": [
        "seen_subtrees = {}\n",
        "root = transform_to_dag(root, seen_subtrees)\n",
        "\n",
        "print(\"DAG of the formula:\")\n",
        "print_dag(root)"
      ]
    },
    {
      "cell_type": "code",
      "execution_count": null,
      "metadata": {
        "colab": {
          "base_uri": "https://localhost:8080/"
        },
        "id": "drZ3NWQ-8Rc3",
        "outputId": "31de61d8-4081-4feb-f932-f2f3f05e5b74"
      },
      "outputs": [
        {
          "output_type": "stream",
          "name": "stdout",
          "text": [
            "The formula is satisfiable.\n"
          ]
        }
      ],
      "source": [
        "satisfiable = check_satisfiability(root)\n",
        "print(\"The formula is satisfiable.\" if satisfiable else \"The formula is not satisfiable.\")"
      ]
    },
    {
      "cell_type": "markdown",
      "metadata": {
        "id": "iWLTYiru-JVs"
      },
      "source": [
        "# ***Example 3***"
      ]
    },
    {
      "cell_type": "code",
      "execution_count": null,
      "metadata": {
        "colab": {
          "base_uri": "https://localhost:8080/"
        },
        "id": "llLe8E1L-N_E",
        "outputId": "38f3c92f-7e08-4e19-f2a8-64fd75e41a30"
      },
      "outputs": [
        {
          "output_type": "stream",
          "name": "stdout",
          "text": [
            "Original formula: p ∧ ¬p\n",
            "Translated formula: p ∧ ¬p\n"
          ]
        }
      ],
      "source": [
        "input_formula = \"p ∧ ¬p\"\n",
        "translated_formula = T(input_formula)\n",
        "print(\"Original formula:\", input_formula)\n",
        "print(\"Translated formula:\", translated_formula)"
      ]
    },
    {
      "cell_type": "code",
      "execution_count": null,
      "metadata": {
        "colab": {
          "base_uri": "https://localhost:8080/"
        },
        "id": "f8ux-lyK-RGE",
        "outputId": "a82a1d1f-d0a1-4168-85ce-0d154287ab88"
      },
      "outputs": [
        {
          "output_type": "stream",
          "name": "stdout",
          "text": [
            "Parse tree of the formula:\n",
            "∧\n",
            "    ├── p\n",
            "    └── ¬\n",
            "        └── p\n"
          ]
        }
      ],
      "source": [
        "input_formula = translated_formula\n",
        "root = parse_logical_expression(input_formula)\n",
        "print(\"Parse tree of the formula:\")\n",
        "print_tree(root)"
      ]
    },
    {
      "cell_type": "code",
      "execution_count": null,
      "metadata": {
        "colab": {
          "base_uri": "https://localhost:8080/"
        },
        "id": "pzKeXi4b-TJU",
        "outputId": "2dfd33a9-054a-4504-eb90-0dc4ed759955"
      },
      "outputs": [
        {
          "output_type": "stream",
          "name": "stdout",
          "text": [
            "DAG of the formula:\n",
            "Node 1: ∧\n",
            "    ├── Node 2: p\n",
            "    └── Node 3: ¬\n",
            "        └── Node 2: p (shared)\n"
          ]
        }
      ],
      "source": [
        "seen_subtrees = {}\n",
        "root = transform_to_dag(root, seen_subtrees)\n",
        "\n",
        "print(\"DAG of the formula:\")\n",
        "print_dag(root)"
      ]
    },
    {
      "cell_type": "code",
      "execution_count": null,
      "metadata": {
        "colab": {
          "base_uri": "https://localhost:8080/"
        },
        "id": "-8YwUblM-VNs",
        "outputId": "c14468b8-a0f2-4c16-848c-7b5b1bf66a0f"
      },
      "outputs": [
        {
          "output_type": "stream",
          "name": "stdout",
          "text": [
            "The formula is not satisfiable.\n"
          ]
        }
      ],
      "source": [
        "satisfiable = check_satisfiability(root)\n",
        "print(\"The formula is satisfiable.\" if satisfiable else \"The formula is not satisfiable.\")"
      ]
    },
    {
      "cell_type": "markdown",
      "metadata": {
        "id": "opp_2pdlFZO8"
      },
      "source": [
        "# ***Example 4***"
      ]
    },
    {
      "cell_type": "code",
      "execution_count": null,
      "metadata": {
        "colab": {
          "base_uri": "https://localhost:8080/"
        },
        "id": "ep01V_jlFm_U",
        "outputId": "320d804f-b962-4ffa-b7fe-0619cfb6650b"
      },
      "outputs": [
        {
          "output_type": "stream",
          "name": "stdout",
          "text": [
            "Original formula: ¬p ∧ (q ∨ r)\n",
            "Translated formula: ¬p ∧ ¬(¬q ∧ ¬r)\n"
          ]
        }
      ],
      "source": [
        "input_formula = \"¬p ∧ (q ∨ r)\"\n",
        "translated_formula = T(input_formula)\n",
        "print(\"Original formula:\", input_formula)\n",
        "print(\"Translated formula:\", translated_formula)"
      ]
    },
    {
      "cell_type": "code",
      "execution_count": null,
      "metadata": {
        "colab": {
          "base_uri": "https://localhost:8080/"
        },
        "id": "bwfjFardGG5O",
        "outputId": "9f58685f-6f2c-4435-f689-ff49085ece28"
      },
      "outputs": [
        {
          "output_type": "stream",
          "name": "stdout",
          "text": [
            "Parse tree of the formula:\n",
            "∧\n",
            "    ├── ¬\n",
            "    │   └── p\n",
            "    └── ¬\n",
            "        └── ∧\n",
            "            ├── ¬\n",
            "            │   └── q\n",
            "            └── ¬\n",
            "                └── r\n"
          ]
        }
      ],
      "source": [
        "input_formula = translated_formula\n",
        "root = parse_logical_expression(input_formula)\n",
        "print(\"Parse tree of the formula:\")\n",
        "print_tree(root)"
      ]
    },
    {
      "cell_type": "code",
      "execution_count": null,
      "metadata": {
        "colab": {
          "base_uri": "https://localhost:8080/"
        },
        "id": "pfIct-xMGJ1G",
        "outputId": "b1cd8828-fae1-4cab-e4a9-97574f6293d9"
      },
      "outputs": [
        {
          "output_type": "stream",
          "name": "stdout",
          "text": [
            "DAG of the formula:\n",
            "Node 1: ∧\n",
            "    ├── Node 2: ¬\n",
            "    │   └── Node 3: p\n",
            "    └── Node 4: ¬\n",
            "        └── Node 5: ∧\n",
            "            ├── Node 6: ¬\n",
            "            │   └── Node 7: q\n",
            "            └── Node 8: ¬\n",
            "                └── Node 9: r\n"
          ]
        }
      ],
      "source": [
        "seen_subtrees = {}\n",
        "root = transform_to_dag(root, seen_subtrees)\n",
        "\n",
        "print(\"DAG of the formula:\")\n",
        "print_dag(root)"
      ]
    },
    {
      "cell_type": "code",
      "execution_count": null,
      "metadata": {
        "colab": {
          "base_uri": "https://localhost:8080/"
        },
        "id": "Y6XBMWsTGM0R",
        "outputId": "41c20049-6dc9-491d-b131-ff3fbe0db913"
      },
      "outputs": [
        {
          "output_type": "stream",
          "name": "stdout",
          "text": [
            "The formula is satisfiable.\n"
          ]
        }
      ],
      "source": [
        "satisfiable = check_satisfiability(root)\n",
        "print(\"The formula is satisfiable.\" if satisfiable else \"The formula is not satisfiable.\")"
      ]
    }
  ],
  "metadata": {
    "colab": {
      "collapsed_sections": [
        "7dadLtL47dj8",
        "vGUWNKdQ76y0",
        "iWLTYiru-JVs",
        "opp_2pdlFZO8"
      ],
      "provenance": []
    },
    "kernelspec": {
      "display_name": "Python 3",
      "name": "python3"
    },
    "language_info": {
      "name": "python"
    }
  },
  "nbformat": 4,
  "nbformat_minor": 0
}